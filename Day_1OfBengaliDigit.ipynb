{
  "nbformat": 4,
  "nbformat_minor": 0,
  "metadata": {
    "colab": {
      "provenance": [],
      "gpuType": "T4",
      "authorship_tag": "ABX9TyOtn1X/7I9ItbHoLbd1gNLl",
      "include_colab_link": true
    },
    "kernelspec": {
      "name": "python3",
      "display_name": "Python 3"
    },
    "language_info": {
      "name": "python"
    },
    "accelerator": "GPU"
  },
  "cells": [
    {
      "cell_type": "markdown",
      "metadata": {
        "id": "view-in-github",
        "colab_type": "text"
      },
      "source": [
        "<a href=\"https://colab.research.google.com/github/T0whed/Bangla-Digit-Recognition-CNN/blob/main/Day_1OfBengaliDigit.ipynb\" target=\"_parent\"><img src=\"https://colab.research.google.com/assets/colab-badge.svg\" alt=\"Open In Colab\"/></a>"
      ]
    },
    {
      "cell_type": "code",
      "execution_count": null,
      "metadata": {
        "id": "KXxztUBFkCiF"
      },
      "outputs": [],
      "source": [
        "!pip install torch torchvision torchaudio numpy pandas scikit-learn matplotlib pillow albumentations opencv-python"
      ]
    },
    {
      "cell_type": "code",
      "source": [
        "import kagglehub\n",
        "\n",
        "# Download latest version\n",
        "path = kagglehub.dataset_download(\"BengaliAI/numta\")\n",
        "\n",
        "print(\"Path to dataset files:\", path)"
      ],
      "metadata": {
        "colab": {
          "base_uri": "https://localhost:8080/"
        },
        "id": "nDXbYXn0lGbm",
        "outputId": "e4370767-f97d-4005-c615-32171d4e3ba5"
      },
      "execution_count": null,
      "outputs": [
        {
          "output_type": "stream",
          "name": "stdout",
          "text": [
            "Downloading from https://www.kaggle.com/api/v1/datasets/download/BengaliAI/numta?dataset_version_number=4...\n"
          ]
        },
        {
          "output_type": "stream",
          "name": "stderr",
          "text": [
            "100%|██████████| 1.91G/1.91G [00:18<00:00, 110MB/s]"
          ]
        },
        {
          "output_type": "stream",
          "name": "stdout",
          "text": [
            "Extracting files...\n"
          ]
        },
        {
          "output_type": "stream",
          "name": "stderr",
          "text": [
            "\n"
          ]
        },
        {
          "output_type": "stream",
          "name": "stdout",
          "text": [
            "Path to dataset files: /root/.cache/kagglehub/datasets/BengaliAI/numta/versions/4\n"
          ]
        }
      ]
    },
    {
      "cell_type": "code",
      "source": [
        "import os"
      ],
      "metadata": {
        "id": "q_mGFOsql6kv"
      },
      "execution_count": null,
      "outputs": []
    },
    {
      "cell_type": "code",
      "source": [
        "print(os.listdir(\".\"))\n",
        "\n",
        "folder = \"data\"\n",
        "file = \"image.png\"\n",
        "print(os.path.join(folder,file))"
      ],
      "metadata": {
        "colab": {
          "base_uri": "https://localhost:8080/"
        },
        "id": "gZIosaQammYR",
        "outputId": "a31f59e5-121f-4882-f51f-57a643968547"
      },
      "execution_count": null,
      "outputs": [
        {
          "output_type": "stream",
          "name": "stdout",
          "text": [
            "['.config', 'sample_data']\n",
            "data/image.png\n"
          ]
        }
      ]
    },
    {
      "cell_type": "code",
      "source": [
        "import matplotlib.pyplot as plt\n",
        "import cv2\n",
        "\n",
        "print(os.listdir(path))\n",
        "subfolder = os.path.join(path, 'training-a')\n",
        "print('Files in training-a: ', os.listdir(subfolder)[:10])"
      ],
      "metadata": {
        "colab": {
          "base_uri": "https://localhost:8080/"
        },
        "id": "Wgz4jN5Lm21J",
        "outputId": "39fc4820-abb7-43f8-e7c1-0186d6fbbe95"
      },
      "execution_count": null,
      "outputs": [
        {
          "output_type": "stream",
          "name": "stdout",
          "text": [
            "['training-a', 'testing-e', 'testing-d', 'training-d', 'training-a.csv', 'testing-c', 'training-e.csv', 'training-c.csv', 'training-d.csv', 'training-b.csv', 'training-c', 'testing-augc', 'testing-f', 'training-e', 'testing-auga', 'training-b', 'testing-a', 'testing-b', 'testing-all-corrected']\n",
            "Files in training-a:  ['a15321.png', 'a00226.png', 'a06952.png', 'a08370.png', 'a00683.png', 'a04038.png', 'a17000.png', 'a15478.png', 'a17371.png', 'a08304.png']\n"
          ]
        }
      ]
    },
    {
      "cell_type": "code",
      "source": [
        "sample_path = os.path.join(path, 'training-a', 'a17000.png')\n",
        "img = cv2.imread(sample_path, cv2.IMREAD_GRAYSCALE)\n",
        "plt.imshow(img, cmap = 'gray')\n",
        "plt.title('Sample NumtaDB image')\n",
        "plt.show()"
      ],
      "metadata": {
        "colab": {
          "base_uri": "https://localhost:8080/",
          "height": 452
        },
        "id": "ahAAbZ16nLGJ",
        "outputId": "9e4e663b-f50c-48fc-8aa8-84831440e2c3"
      },
      "execution_count": null,
      "outputs": [
        {
          "output_type": "display_data",
          "data": {
            "text/plain": [
              "<Figure size 640x480 with 1 Axes>"
            ],
            "image/png": "[encoded data removed]"
          },
          "metadata": {}
        }
      ]
    },
    {
      "cell_type": "code",
      "source": [
        "import os\n",
        "print(os.listdir())"
      ],
      "metadata": {
        "colab": {
          "base_uri": "https://localhost:8080/"
        },
        "id": "Wjlxwf-xnv5v",
        "outputId": "1c57d580-e13a-4c3c-bd64-67e6669e2bbd"
      },
      "execution_count": null,
      "outputs": [
        {
          "output_type": "stream",
          "name": "stdout",
          "text": [
            "['.config', 'sample_data']\n"
          ]
        }
      ]
    },
    {
      "cell_type": "code",
      "source": [
        "os.chdir('/content/sample_data/')"
      ],
      "metadata": {
        "id": "Ib5bKWV4p8ky"
      },
      "execution_count": null,
      "outputs": []
    },
    {
      "cell_type": "code",
      "source": [
        "os.getcwd()"
      ],
      "metadata": {
        "colab": {
          "base_uri": "https://localhost:8080/",
          "height": 35
        },
        "id": "kRTldfCzrbFD",
        "outputId": "e66a379b-f245-4e86-c285-6b56203d2798"
      },
      "execution_count": null,
      "outputs": [
        {
          "output_type": "execute_result",
          "data": {
            "text/plain": [
              "'/content/sample_data'"
            ],
            "application/vnd.google.colaboratory.intrinsic+json": {
              "type": "string"
            }
          },
          "metadata": {},
          "execution_count": 23
        }
      ]
    },
    {
      "cell_type": "code",
      "source": [
        "os.listdir()"
      ],
      "metadata": {
        "colab": {
          "base_uri": "https://localhost:8080/"
        },
        "id": "BoSooR2Iret4",
        "outputId": "6e06dd34-ec0a-4bf7-dec3-67b7b543691b"
      },
      "execution_count": null,
      "outputs": [
        {
          "output_type": "execute_result",
          "data": {
            "text/plain": [
              "['anscombe.json',\n",
              " 'README.md',\n",
              " 'california_housing_test.csv',\n",
              " 'california_housing_train.csv',\n",
              " 'mnist_train_small.csv',\n",
              " 'mnist_test.csv']"
            ]
          },
          "metadata": {},
          "execution_count": 24
        }
      ]
    },
    {
      "cell_type": "code",
      "source": [
        "print(path)"
      ],
      "metadata": {
        "colab": {
          "base_uri": "https://localhost:8080/"
        },
        "id": "IprOeiodsMwP",
        "outputId": "8140610d-0137-4229-ce1e-09255745bc35"
      },
      "execution_count": null,
      "outputs": [
        {
          "output_type": "stream",
          "name": "stdout",
          "text": [
            "/root/.cache/kagglehub/datasets/BengaliAI/numta/versions/4\n"
          ]
        }
      ]
    },
    {
      "cell_type": "code",
      "source": [
        "from google.colab import drive\n",
        "drive.mount('/content/drive')\n"
      ],
      "metadata": {
        "colab": {
          "base_uri": "https://localhost:8080/"
        },
        "id": "GoGqzHmgs2y3",
        "outputId": "0accda4a-53d9-4726-e903-5ae08ff33edc"
      },
      "execution_count": null,
      "outputs": [
        {
          "output_type": "stream",
          "name": "stdout",
          "text": [
            "Mounted at /content/drive\n"
          ]
        }
      ]
    },
    {
      "cell_type": "code",
      "source": [
        "!ls /content/drive/MyDrive/\n"
      ],
      "metadata": {
        "colab": {
          "base_uri": "https://localhost:8080/"
        },
        "id": "q0g_rrMptPrZ",
        "outputId": "2eda8c64-5963-4659-a72a-7737daeaddf9"
      },
      "execution_count": null,
      "outputs": [
        {
          "output_type": "stream",
          "name": "stdout",
          "text": [
            " 000034.jpg\n",
            " 2021331089_Assignment_Polynomial_Interpolation.pdf\n",
            " 2021331089.gsheet\n",
            " 2021331089_ProjectProposalER_Diagram.gdoc\n",
            "\"21 Batch's Program Payment.gsheet\"\n",
            " 6.59A-1.gdoc\n",
            " 6.59A-3.gdoc\n",
            "'Admit card 2021'\n",
            " AnswerSheet.gdoc\n",
            " Assignment2021331089.ipynb\n",
            "'CE Lab.gsheet'\n",
            " Classroom\n",
            "'Colab Notebooks'\n",
            "'Communication Hacks Online Edition - Updated.pdf'\n",
            "'Copy of 2021331089.gsheet'\n",
            "'Copy of 3 Aug Micro attendance.gsheet'\n",
            "'Copy of Copy of Copy of 2021331033.gsheet'\n",
            "'Copy of Ramadan Questions.gdoc'\n",
            "'Copy of Sinusoidal Functions Lecture 3.pptx'\n",
            " Demo.gdoc\n",
            " ER_Diagram.png\n",
            "'exercise language.gdoc'\n",
            "'Fifth chapter.gdoc'\n",
            " Ghore_Boshe_Spoken_English_Munzereen_Shahid_18_June_2020.pdf\n",
            "'GST admit card.pdf'\n",
            "'Helio S5-EMEI numb..png'\n",
            " Image-of-mine300x300.jpg\n",
            "'Image of mine.jpg'\n",
            " IMG_20190613_162415382.jpg\n",
            " IMG20230207160500.jpg\n",
            "'Junior coding sheet.gsheet'\n",
            "'My NID.pdf'\n",
            " netsys_LW-01EN_Name-Surname-Report.gsheet\n",
            " Pic\n",
            "'Project proposal.gdoc'\n",
            "'Ramadan planner.pdf'\n",
            "'Resume Towheduzzaman.pdf'\n",
            "'RU admit card.pdf'\n",
            "'Sample 2020-07-08 (1).pdf'\n",
            "'Sample 2020-07-08.pdf'\n",
            "'split_6 (1).xlsx.gsheet'\n",
            "'split_6 (2).xlsx.gsheet'\n",
            " split_6.xlsx\n",
            " split_6.xlsx.gsheet\n",
            "'split_7 (1).gsheet'\n",
            " split_7.gsheet\n",
            " split_8.gsheet\n",
            "'Student Hacks Online Edition - Updated.pdf'\n",
            "'Study Life - Notification Hub for Students.gdoc'\n",
            "'SUST CP Training Camp.gsheet'\n",
            "'Takrim vai'\n",
            "'To-do list (1).gsheet'\n",
            "'To-do list.gsheet'\n",
            "'TOWHEDUZZAMAN_A Unit AdmitCard (1).pdf'\n",
            "'TOWHEDUZZAMAN_D Unit AdmitCard (1).pdf'\n",
            "'Untitled Diagram (1).jpg'\n",
            "'Untitled Diagram.drawio.png'\n",
            "'Untitled Diagram.jpg'\n",
            "'Untitled document.gdoc'\n",
            "'Untitled form.gform'\n",
            "'Untitled spreadsheet.gsheet'\n",
            "'Usul from 19,20 and others.gsheet'\n",
            "'Yawn&On.gdoc'\n",
            "'উসুল আপডেট.gsheet'\n"
          ]
        }
      ]
    },
    {
      "cell_type": "code",
      "source": [
        "!unzip \"/content/drive/MyDrive/Datasets/numta.zip\" -d ./data\n",
        "\n",
        "import os\n",
        "print(os.listdir(\"./data\"))  # should show training-a, training-b, etc."
      ],
      "metadata": {
        "colab": {
          "base_uri": "https://localhost:8080/",
          "height": 220
        },
        "id": "0MHEwBECvJQa",
        "outputId": "0a7273e5-1505-405d-b786-c7de6c9bc96a"
      },
      "execution_count": null,
      "outputs": [
        {
          "output_type": "stream",
          "name": "stdout",
          "text": [
            "unzip:  cannot find or open /content/drive/MyDrive/Datasets/numta.zip, /content/drive/MyDrive/Datasets/numta.zip.zip or /content/drive/MyDrive/Datasets/numta.zip.ZIP.\n"
          ]
        },
        {
          "output_type": "error",
          "ename": "FileNotFoundError",
          "evalue": "[Errno 2] No such file or directory: './data'",
          "traceback": [
            "\u001b[0;31m---------------------------------------------------------------------------\u001b[0m",
            "\u001b[0;31mFileNotFoundError\u001b[0m                         Traceback (most recent call last)",
            "\u001b[0;32m/tmp/ipython-input-1863296837.py\u001b[0m in \u001b[0;36m<cell line: 0>\u001b[0;34m()\u001b[0m\n\u001b[1;32m      2\u001b[0m \u001b[0;34m\u001b[0m\u001b[0m\n\u001b[1;32m      3\u001b[0m \u001b[0;32mimport\u001b[0m \u001b[0mos\u001b[0m\u001b[0;34m\u001b[0m\u001b[0;34m\u001b[0m\u001b[0m\n\u001b[0;32m----> 4\u001b[0;31m \u001b[0mprint\u001b[0m\u001b[0;34m(\u001b[0m\u001b[0mos\u001b[0m\u001b[0;34m.\u001b[0m\u001b[0mlistdir\u001b[0m\u001b[0;34m(\u001b[0m\u001b[0;34m\"./data\"\u001b[0m\u001b[0;34m)\u001b[0m\u001b[0;34m)\u001b[0m  \u001b[0;31m# should show training-a, training-b, etc.\u001b[0m\u001b[0;34m\u001b[0m\u001b[0;34m\u001b[0m\u001b[0m\n\u001b[0m",
            "\u001b[0;31mFileNotFoundError\u001b[0m: [Errno 2] No such file or directory: './data'"
          ]
        }
      ]
    },
    {
      "cell_type": "code",
      "source": [
        "from google.colab import drive\n",
        "drive.mount('/content/drive', force_remount=True)\n",
        "\n",
        "!unzip \"/content/drive/MyDrive/DataSets/numta.zip\" -d ./data\n",
        "\n",
        "import os\n",
        "print(os.listdir(\"./data\"))  # should now show training-a, training-b, etc.\n"
      ],
      "metadata": {
        "id": "Y85DSZUuwScU"
      },
      "execution_count": null,
      "outputs": []
    },
    {
      "cell_type": "code",
      "source": [
        "dataset_path = \"./data\"\n",
        "\n",
        "subfolders = os.listdir(dataset_path);\n",
        "subfolders"
      ],
      "metadata": {
        "colab": {
          "base_uri": "https://localhost:8080/"
        },
        "id": "h1k88Sri2Z2O",
        "outputId": "eb439a41-d163-4b62-c2f8-ba958a88f0e8"
      },
      "execution_count": null,
      "outputs": [
        {
          "output_type": "execute_result",
          "data": {
            "text/plain": [
              "['training-a',\n",
              " 'testing-e',\n",
              " 'testing-d',\n",
              " 'training-d',\n",
              " 'training-a.csv',\n",
              " 'testing-c',\n",
              " 'training-e.csv',\n",
              " 'training-c.csv',\n",
              " 'training-d.csv',\n",
              " 'training-b.csv',\n",
              " 'training-c',\n",
              " 'testing-augc',\n",
              " 'testing-f',\n",
              " 'training-e',\n",
              " 'testing-auga',\n",
              " 'training-b',\n",
              " 'testing-a',\n",
              " 'testing-b',\n",
              " 'testing-all-corrected']"
            ]
          },
          "metadata": {},
          "execution_count": 31
        }
      ]
    },
    {
      "cell_type": "code",
      "source": [
        "for folder in subfolders:\n",
        "  folder_path = os.path.join(dataset_path, folder)\n",
        "  images = os.listdir(folder_path)\n",
        "  print(len(images))"
      ],
      "metadata": {
        "colab": {
          "base_uri": "https://localhost:8080/",
          "height": 272
        },
        "id": "9C5XHB7R3ZOc",
        "outputId": "2378d7c9-8111-47bd-c6a5-aad377ddeb77"
      },
      "execution_count": null,
      "outputs": [
        {
          "output_type": "stream",
          "name": "stdout",
          "text": [
            "19702\n",
            "2970\n",
            "1948\n",
            "10908\n"
          ]
        },
        {
          "output_type": "error",
          "ename": "NotADirectoryError",
          "evalue": "[Errno 20] Not a directory: './data/training-a.csv'",
          "traceback": [
            "\u001b[0;31m---------------------------------------------------------------------------\u001b[0m",
            "\u001b[0;31mNotADirectoryError\u001b[0m                        Traceback (most recent call last)",
            "\u001b[0;32m/tmp/ipython-input-2324737333.py\u001b[0m in \u001b[0;36m<cell line: 0>\u001b[0;34m()\u001b[0m\n\u001b[1;32m      1\u001b[0m \u001b[0;32mfor\u001b[0m \u001b[0mfolder\u001b[0m \u001b[0;32min\u001b[0m \u001b[0msubfolders\u001b[0m\u001b[0;34m:\u001b[0m\u001b[0;34m\u001b[0m\u001b[0;34m\u001b[0m\u001b[0m\n\u001b[1;32m      2\u001b[0m   \u001b[0mfolder_path\u001b[0m \u001b[0;34m=\u001b[0m \u001b[0mos\u001b[0m\u001b[0;34m.\u001b[0m\u001b[0mpath\u001b[0m\u001b[0;34m.\u001b[0m\u001b[0mjoin\u001b[0m\u001b[0;34m(\u001b[0m\u001b[0mdataset_path\u001b[0m\u001b[0;34m,\u001b[0m \u001b[0mfolder\u001b[0m\u001b[0;34m)\u001b[0m\u001b[0;34m\u001b[0m\u001b[0;34m\u001b[0m\u001b[0m\n\u001b[0;32m----> 3\u001b[0;31m   \u001b[0mimages\u001b[0m \u001b[0;34m=\u001b[0m \u001b[0mos\u001b[0m\u001b[0;34m.\u001b[0m\u001b[0mlistdir\u001b[0m\u001b[0;34m(\u001b[0m\u001b[0mfolder_path\u001b[0m\u001b[0;34m)\u001b[0m\u001b[0;34m\u001b[0m\u001b[0;34m\u001b[0m\u001b[0m\n\u001b[0m\u001b[1;32m      4\u001b[0m   \u001b[0mprint\u001b[0m\u001b[0;34m(\u001b[0m\u001b[0mlen\u001b[0m\u001b[0;34m(\u001b[0m\u001b[0mimages\u001b[0m\u001b[0;34m)\u001b[0m\u001b[0;34m)\u001b[0m\u001b[0;34m\u001b[0m\u001b[0;34m\u001b[0m\u001b[0m\n",
            "\u001b[0;31mNotADirectoryError\u001b[0m: [Errno 20] Not a directory: './data/training-a.csv'"
          ]
        }
      ]
    },
    {
      "cell_type": "code",
      "source": [
        "for folder in subfolders:\n",
        "    folder_path = os.path.join(dataset_path, folder)\n",
        "    images = os.listdir(folder_path)\n",
        "    print(f\"{folder}: {len(images)} images\")"
      ],
      "metadata": {
        "colab": {
          "base_uri": "https://localhost:8080/",
          "height": 272
        },
        "id": "oM2-qvBy3xPV",
        "outputId": "138d1216-8d93-4335-b2b1-0eed8bc0d156"
      },
      "execution_count": null,
      "outputs": [
        {
          "output_type": "stream",
          "name": "stdout",
          "text": [
            "training-a: 19702 images\n",
            "testing-e: 2970 images\n",
            "testing-d: 1948 images\n",
            "training-d: 10908 images\n"
          ]
        },
        {
          "output_type": "error",
          "ename": "NotADirectoryError",
          "evalue": "[Errno 20] Not a directory: './data/training-a.csv'",
          "traceback": [
            "\u001b[0;31m---------------------------------------------------------------------------\u001b[0m",
            "\u001b[0;31mNotADirectoryError\u001b[0m                        Traceback (most recent call last)",
            "\u001b[0;32m/tmp/ipython-input-1831556994.py\u001b[0m in \u001b[0;36m<cell line: 0>\u001b[0;34m()\u001b[0m\n\u001b[1;32m      1\u001b[0m \u001b[0;32mfor\u001b[0m \u001b[0mfolder\u001b[0m \u001b[0;32min\u001b[0m \u001b[0msubfolders\u001b[0m\u001b[0;34m:\u001b[0m\u001b[0;34m\u001b[0m\u001b[0;34m\u001b[0m\u001b[0m\n\u001b[1;32m      2\u001b[0m     \u001b[0mfolder_path\u001b[0m \u001b[0;34m=\u001b[0m \u001b[0mos\u001b[0m\u001b[0;34m.\u001b[0m\u001b[0mpath\u001b[0m\u001b[0;34m.\u001b[0m\u001b[0mjoin\u001b[0m\u001b[0;34m(\u001b[0m\u001b[0mdataset_path\u001b[0m\u001b[0;34m,\u001b[0m \u001b[0mfolder\u001b[0m\u001b[0;34m)\u001b[0m\u001b[0;34m\u001b[0m\u001b[0;34m\u001b[0m\u001b[0m\n\u001b[0;32m----> 3\u001b[0;31m     \u001b[0mimages\u001b[0m \u001b[0;34m=\u001b[0m \u001b[0mos\u001b[0m\u001b[0;34m.\u001b[0m\u001b[0mlistdir\u001b[0m\u001b[0;34m(\u001b[0m\u001b[0mfolder_path\u001b[0m\u001b[0;34m)\u001b[0m\u001b[0;34m\u001b[0m\u001b[0;34m\u001b[0m\u001b[0m\n\u001b[0m\u001b[1;32m      4\u001b[0m     \u001b[0mprint\u001b[0m\u001b[0;34m(\u001b[0m\u001b[0;34mf\"{folder}: {len(images)} images\"\u001b[0m\u001b[0;34m)\u001b[0m\u001b[0;34m\u001b[0m\u001b[0;34m\u001b[0m\u001b[0m\n",
            "\u001b[0;31mNotADirectoryError\u001b[0m: [Errno 20] Not a directory: './data/training-a.csv'"
          ]
        }
      ]
    },
    {
      "cell_type": "code",
      "source": [
        "os.chdir('/content/sample_data/training-a.csv')"
      ],
      "metadata": {
        "colab": {
          "base_uri": "https://localhost:8080/",
          "height": 145
        },
        "id": "forLEGKg4DaG",
        "outputId": "40e3976b-1f7e-4c54-e0d3-d7e067816e97"
      },
      "execution_count": null,
      "outputs": [
        {
          "output_type": "error",
          "ename": "FileNotFoundError",
          "evalue": "[Errno 2] No such file or directory: '/content/sample_data/training-a.csv'",
          "traceback": [
            "\u001b[0;31m---------------------------------------------------------------------------\u001b[0m",
            "\u001b[0;31mFileNotFoundError\u001b[0m                         Traceback (most recent call last)",
            "\u001b[0;32m/tmp/ipython-input-482557124.py\u001b[0m in \u001b[0;36m<cell line: 0>\u001b[0;34m()\u001b[0m\n\u001b[0;32m----> 1\u001b[0;31m \u001b[0mos\u001b[0m\u001b[0;34m.\u001b[0m\u001b[0mchdir\u001b[0m\u001b[0;34m(\u001b[0m\u001b[0;34m'/content/sample_data/training-a.csv'\u001b[0m\u001b[0;34m)\u001b[0m\u001b[0;34m\u001b[0m\u001b[0;34m\u001b[0m\u001b[0m\n\u001b[0m",
            "\u001b[0;31mFileNotFoundError\u001b[0m: [Errno 2] No such file or directory: '/content/sample_data/training-a.csv'"
          ]
        }
      ]
    },
    {
      "cell_type": "code",
      "source": [
        "print(os.getcwd())"
      ],
      "metadata": {
        "colab": {
          "base_uri": "https://localhost:8080/"
        },
        "id": "j6Zcsm6d5gqQ",
        "outputId": "d776bd18-321c-4a6c-dc4d-2a4b31f3c042"
      },
      "execution_count": null,
      "outputs": [
        {
          "output_type": "stream",
          "name": "stdout",
          "text": [
            "/content/sample_data\n"
          ]
        }
      ]
    },
    {
      "cell_type": "code",
      "source": [
        "os.listdir()"
      ],
      "metadata": {
        "colab": {
          "base_uri": "https://localhost:8080/"
        },
        "id": "cGiC8-235wTw",
        "outputId": "16fa9813-4940-4acf-866d-8f4cfe3481dc"
      },
      "execution_count": null,
      "outputs": [
        {
          "output_type": "execute_result",
          "data": {
            "text/plain": [
              "['anscombe.json',\n",
              " 'README.md',\n",
              " 'data',\n",
              " 'california_housing_test.csv',\n",
              " 'california_housing_train.csv',\n",
              " 'mnist_train_small.csv',\n",
              " 'mnist_test.csv']"
            ]
          },
          "metadata": {},
          "execution_count": 41
        }
      ]
    },
    {
      "cell_type": "code",
      "source": [
        "print(path)"
      ],
      "metadata": {
        "colab": {
          "base_uri": "https://localhost:8080/"
        },
        "id": "BWSHoFwq56n0",
        "outputId": "685067f4-98ac-447c-a938-887cfc669a3e"
      },
      "execution_count": null,
      "outputs": [
        {
          "output_type": "stream",
          "name": "stdout",
          "text": [
            "/root/.cache/kagglehub/datasets/BengaliAI/numta/versions/4\n"
          ]
        }
      ]
    },
    {
      "cell_type": "code",
      "source": [
        "print(dataset_path)"
      ],
      "metadata": {
        "colab": {
          "base_uri": "https://localhost:8080/"
        },
        "id": "LvIaWaJ85-Ib",
        "outputId": "4e5ad6b1-dffc-4dfe-80aa-32d4eb826e78"
      },
      "execution_count": null,
      "outputs": [
        {
          "output_type": "stream",
          "name": "stdout",
          "text": [
            "./data\n"
          ]
        }
      ]
    },
    {
      "cell_type": "code",
      "source": [],
      "metadata": {
        "id": "Dx4LlI_S7JiV"
      },
      "execution_count": null,
      "outputs": []
    }
  ]
}